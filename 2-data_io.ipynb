{
 "cells": [
  {
   "cell_type": "markdown",
   "metadata": {},
   "source": [
    "## Introducción"
   ]
  },
  {
   "cell_type": "markdown",
   "metadata": {},
   "source": [
    "- **I/O** significa _input/output_. \n",
    "- Escribir y leer datos desde archivos u otras fuentes, es fundamental en la programación, y más aún en programación científica.\n"
   ]
  },
  {
   "cell_type": "markdown",
   "metadata": {},
   "source": [
    "## Leer archivos"
   ]
  },
  {
   "cell_type": "code",
   "execution_count": 1,
   "metadata": {
    "collapsed": false
   },
   "outputs": [
    {
     "name": "stdout",
     "output_type": "stream",
     "text": [
      "Writing inout.dat\n"
     ]
    }
   ],
   "source": [
    "%%file inout.dat\n",
    "Hola, desde el archivo\n",
    "Este es un archivo de texto\n",
    "Escrito en ASCII"
   ]
  },
  {
   "cell_type": "markdown",
   "metadata": {},
   "source": [
    "Lee el archivo de una sola pasada"
   ]
  },
  {
   "cell_type": "code",
   "execution_count": 2,
   "metadata": {
    "collapsed": false
   },
   "outputs": [
    {
     "name": "stdout",
     "output_type": "stream",
     "text": [
      "Hola, desde el archivo\n",
      "Este es un archivo de texto\n",
      "Escrito en ASCII\n"
     ]
    }
   ],
   "source": [
    "archivo = open('inout.dat')\n",
    "print archivo.read()\n",
    "archivo.close()"
   ]
  },
  {
   "cell_type": "markdown",
   "metadata": {},
   "source": [
    "Línea por línea"
   ]
  },
  {
   "cell_type": "code",
   "execution_count": 3,
   "metadata": {
    "collapsed": false
   },
   "outputs": [
    {
     "name": "stdout",
     "output_type": "stream",
     "text": [
      "['Hola, desde el archivo\\n', 'Este es un archivo de texto\\n', 'Escrito en ASCII']\n"
     ]
    }
   ],
   "source": [
    "archivo = open('inout.dat')\n",
    "print archivo.readlines()\n",
    "archivo.close()"
   ]
  },
  {
   "cell_type": "markdown",
   "metadata": {},
   "source": [
    "Otra manera"
   ]
  },
  {
   "cell_type": "code",
   "execution_count": 4,
   "metadata": {
    "collapsed": false
   },
   "outputs": [
    {
     "name": "stdout",
     "output_type": "stream",
     "text": [
      "['Hola,', 'desde', 'el', 'archivo']\n",
      "['Este', 'es', 'un', 'archivo', 'de', 'texto']\n",
      "['Escrito', 'en', 'ASCII']\n"
     ]
    }
   ],
   "source": [
    "for line in open('inout.dat'):\n",
    "    print line.split()"
   ]
  },
  {
   "cell_type": "markdown",
   "metadata": {},
   "source": [
    "## Escribir archivos"
   ]
  },
  {
   "cell_type": "markdown",
   "metadata": {},
   "source": [
    "`write()` es lo contrario a `read()` (¡Vaya sorpresa!)"
   ]
  },
  {
   "cell_type": "code",
   "execution_count": 5,
   "metadata": {
    "collapsed": false
   },
   "outputs": [],
   "source": [
    "contents = open('inout.dat').read()\n",
    "out = open('my_output.dat', 'w')\n",
    "out.write(contents.replace(' ', '_'))\n",
    "out.close()"
   ]
  },
  {
   "cell_type": "code",
   "execution_count": 6,
   "metadata": {
    "collapsed": false
   },
   "outputs": [
    {
     "name": "stdout",
     "output_type": "stream",
     "text": [
      "Hola,_desde_el_archivo\r\n",
      "Este_es_un_archivo_de_texto\r\n",
      "Escrito_en_ASCII"
     ]
    }
   ],
   "source": [
    "!cat my_output.dat"
   ]
  },
  {
   "cell_type": "markdown",
   "metadata": {},
   "source": [
    "<div class=\"alert alert-info\">\n",
    "**Ejercicio** Cambia la segunda línea del archivo a _¿Cómo has estado?_ ¿Qué sucede?\n",
    "</div>"
   ]
  },
  {
   "cell_type": "markdown",
   "metadata": {},
   "source": [
    "<div class=\"alert alert-info\">\n",
    "**Ejercicio** Escribe un archivo `CSV`. Calcula $y(x) = x^2 \\cos x$ para los valores del $x \\in {1..100}$. En la primera columna guarda $x$ y en la segunda $y(x)$.\n",
    "</div>"
   ]
  },
  {
   "cell_type": "markdown",
   "metadata": {},
   "source": [
    "## Numpy I/O"
   ]
  },
  {
   "cell_type": "code",
   "execution_count": 7,
   "metadata": {
    "collapsed": false
   },
   "outputs": [
    {
     "name": "stdout",
     "output_type": "stream",
     "text": [
      "Populating the interactive namespace from numpy and matplotlib\n"
     ]
    }
   ],
   "source": [
    "%pylab inline\n",
    "import numpy as np\n",
    "import matplotlib.pyplot as plt"
   ]
  },
  {
   "cell_type": "markdown",
   "metadata": {},
   "source": [
    "- `NumPy` permite escribir y leer los arreglos a archivo de varias maneras, como **texto** o en **binario**.\n",
    "- Si escribes a un archivo usando el modo de **texto**, el número $\\pi$, se escribirá como $3.141592653589793$. Algo que un humano puede leer (bajo ciertas condiciones, obvio), es decir, una cadena de texto. El modo de texto, ocupa más espacio, la precisión se puede perder (no todos los dígitos se escribirán al disco), pero puede ser editada a mano. Si guardas un arreglo, sólo se pueden guardar arreglos bidimensionales.\n",
    "- En cambio, si usas el modo **binario** para escribir a archivo, se escribirá como una cadena de 8 bytes que será idéntica a como se guarda en la memoria de la computadora. Sus únicas desventaja es que no puede ser editado a mano y que es dependiente de `NumPy` (no puede ser leído por otro programa, sin un convertidor)."
   ]
  },
  {
   "cell_type": "markdown",
   "metadata": {},
   "source": [
    "## Modo Texto"
   ]
  },
  {
   "cell_type": "code",
   "execution_count": 8,
   "metadata": {
    "collapsed": false
   },
   "outputs": [
    {
     "name": "stdout",
     "output_type": "stream",
     "text": [
      "# My dataset\r\n",
      "0.00e+00 1.00e+00 2.00e+00 3.00e+00 4.00e+00\r\n",
      "5.00e+00 6.00e+00 7.00e+00 8.00e+00 9.00e+00\r\n"
     ]
    }
   ],
   "source": [
    "arr = np.arange(10).reshape(2, 5)\n",
    "np.savetxt('test.out', arr, fmt='%.2e', header=\"My dataset\")\n",
    "!cat test.out"
   ]
  },
  {
   "cell_type": "code",
   "execution_count": 9,
   "metadata": {
    "collapsed": false
   },
   "outputs": [
    {
     "name": "stdout",
     "output_type": "stream",
     "text": [
      "(2, 5)\n",
      "[[ 0.  1.  2.  3.  4.]\n",
      " [ 5.  6.  7.  8.  9.]]\n"
     ]
    }
   ],
   "source": [
    "DataIn = np.loadtxt('test.out')\n",
    "print DataIn.shape\n",
    "print DataIn"
   ]
  },
  {
   "cell_type": "code",
   "execution_count": 10,
   "metadata": {
    "collapsed": false
   },
   "outputs": [
    {
     "name": "stdout",
     "output_type": "stream",
     "text": [
      "[ 5.  6.  7.  8.  9.]\n"
     ]
    }
   ],
   "source": [
    "print DataIn[1,:]"
   ]
  },
  {
   "cell_type": "markdown",
   "metadata": {},
   "source": [
    "#### Leyendo archivos CSV"
   ]
  },
  {
   "cell_type": "code",
   "execution_count": 11,
   "metadata": {
    "collapsed": false
   },
   "outputs": [
    {
     "name": "stdout",
     "output_type": "stream",
     "text": [
      "Writing input.csv\n"
     ]
    }
   ],
   "source": [
    "%%file input.csv\n",
    "# Mis datos de ejemplo\n",
    "    0.0,  1.1,  0.1\n",
    "    2.0,  1.9,  0.2\n",
    "    4.0,  3.2,  0.1\n",
    "    6.0,  4.0,  0.3\n",
    "    8.0,  5.9,  0.3"
   ]
  },
  {
   "cell_type": "code",
   "execution_count": 12,
   "metadata": {
    "collapsed": false
   },
   "outputs": [
    {
     "name": "stdout",
     "output_type": "stream",
     "text": [
      "# Mis datos de ejemplo\r\n",
      "    0.0,  1.1,  0.1\r\n",
      "    2.0,  1.9,  0.2\r\n",
      "    4.0,  3.2,  0.1\r\n",
      "    6.0,  4.0,  0.3\r\n",
      "    8.0,  5.9,  0.3"
     ]
    }
   ],
   "source": [
    "!cat input.csv"
   ]
  },
  {
   "cell_type": "code",
   "execution_count": 13,
   "metadata": {
    "collapsed": false
   },
   "outputs": [
    {
     "name": "stdout",
     "output_type": "stream",
     "text": [
      "[ 0.  2.  4.  6.  8.] [ 1.1  1.9  3.2  4.   5.9]\n"
     ]
    }
   ],
   "source": [
    "x, y = np.loadtxt('input.csv',unpack=True, delimiter=',', usecols=[0,1])\n",
    "print x,y"
   ]
  },
  {
   "cell_type": "markdown",
   "metadata": {},
   "source": [
    "## Modo Binario"
   ]
  },
  {
   "cell_type": "markdown",
   "metadata": {},
   "source": [
    "Para guardar datos binarios, `NumPy` provee los métodos `np.save` y `np.savez`. El primero sólo guarda un arreglo y el archivo tendrá la extensión `.npy`, mientras que el segundo se puede utilizar para guardar varios arreglos a la vez con una extensión `.npz`."
   ]
  },
  {
   "cell_type": "code",
   "execution_count": 14,
   "metadata": {
    "collapsed": false
   },
   "outputs": [
    {
     "name": "stdout",
     "output_type": "stream",
     "text": [
      "Any differences? False\n"
     ]
    }
   ],
   "source": [
    "arr2 = DataIn \n",
    "np.save('test.npy', arr2)\n",
    "# Lo leemos de nuevo\n",
    "arr2n = np.load('test.npy')\n",
    "# Veamos si hay una diferencia...\n",
    "print 'Any differences?', np.any(arr2-arr2n)"
   ]
  },
  {
   "cell_type": "code",
   "execution_count": 15,
   "metadata": {
    "collapsed": false
   },
   "outputs": [
    {
     "data": {
      "text/plain": [
       "['arr_1', 'arr_0']"
      ]
     },
     "execution_count": 15,
     "metadata": {},
     "output_type": "execute_result"
    }
   ],
   "source": [
    "np.savez('test.npz', arr, arr2)\n",
    "arrays = np.load('test.npz')\n",
    "arrays.files"
   ]
  },
  {
   "cell_type": "code",
   "execution_count": 16,
   "metadata": {
    "collapsed": false
   },
   "outputs": [
    {
     "data": {
      "text/plain": [
       "['array2', 'array1']"
      ]
     },
     "execution_count": 16,
     "metadata": {},
     "output_type": "execute_result"
    }
   ],
   "source": [
    "np.savez('test.npz', array1=arr, array2=arr2)\n",
    "arrays = np.load('test.npz')\n",
    "arrays.files"
   ]
  },
  {
   "cell_type": "code",
   "execution_count": 17,
   "metadata": {
    "collapsed": false
   },
   "outputs": [
    {
     "name": "stdout",
     "output_type": "stream",
     "text": [
      "First row of first array: [0 1 2 3 4]\n",
      "First row of first array: [0 1 2 3 4]\n"
     ]
    }
   ],
   "source": [
    "print 'First row of first array:', arrays['array1'][0]\n",
    "# Este es una manera equivalente de obtener el primer elemento\n",
    "print 'First row of first array:', arrays.f.array1[0]"
   ]
  },
  {
   "cell_type": "markdown",
   "metadata": {},
   "source": [
    "<div class=\"alert alert-info\">\n",
    "**Ejercicio**: <br/>\n",
    "- Crea un arreglo bidimensional con 100 elementos flotantes al azar y guárdalos en formato de texto. <br/>\n",
    "\n",
    "- Guárdalos también en formato binario. ¿Hay alguna diferencia entre ellos? <br/>\n",
    "\n",
    "- Ahora crea un arreglo tridimensional con los elementos del 1 al 50 y guárdalos en formato binario ¿Qué pasa si los quieres guardar en formato de texto?\n",
    "</div>"
   ]
  },
  {
   "cell_type": "code",
   "execution_count": null,
   "metadata": {
    "collapsed": true
   },
   "outputs": [],
   "source": []
  }
 ],
 "metadata": {
  "kernelspec": {
   "display_name": "Python 2",
   "language": "python",
   "name": "python2"
  },
  "language_info": {
   "codemirror_mode": {
    "name": "ipython",
    "version": 2
   },
   "file_extension": ".py",
   "mimetype": "text/x-python",
   "name": "python",
   "nbconvert_exporter": "python",
   "pygments_lexer": "ipython2",
   "version": "2.7.11"
  }
 },
 "nbformat": 4,
 "nbformat_minor": 0
}
