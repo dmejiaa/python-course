{
 "cells": [
  {
   "cell_type": "markdown",
   "metadata": {},
   "source": [
    "## Ejemplo Final"
   ]
  },
  {
   "cell_type": "markdown",
   "metadata": {},
   "source": [
    "Para los ejemplos que siguen generaremos un conjunto falso de transacciones, usando las bibliotecas de `python` `random` y `uuid`"
   ]
  },
  {
   "cell_type": "code",
   "execution_count": 1,
   "metadata": {
    "collapsed": true
   },
   "outputs": [],
   "source": [
    "import random"
   ]
  },
  {
   "cell_type": "code",
   "execution_count": 2,
   "metadata": {
    "collapsed": false
   },
   "outputs": [
    {
     "data": {
      "text/plain": [
       "955"
      ]
     },
     "execution_count": 2,
     "metadata": {},
     "output_type": "execute_result"
    }
   ],
   "source": [
    "random.randint(10,1000)"
   ]
  },
  {
   "cell_type": "code",
   "execution_count": 3,
   "metadata": {
    "collapsed": false
   },
   "outputs": [
    {
     "data": {
      "text/plain": [
       "'RETIRO'"
      ]
     },
     "execution_count": 3,
     "metadata": {},
     "output_type": "execute_result"
    }
   ],
   "source": [
    "accion = ['RETIRO', 'COMPRA', 'CONSULTA']\n",
    "random.choice(accion)"
   ]
  },
  {
   "cell_type": "code",
   "execution_count": 4,
   "metadata": {
    "collapsed": false
   },
   "outputs": [],
   "source": [
    "import uuid"
   ]
  },
  {
   "cell_type": "code",
   "execution_count": 5,
   "metadata": {
    "collapsed": false
   },
   "outputs": [],
   "source": [
    "clientes = [str(uuid.uuid4()), str(uuid.uuid4()), str(uuid.uuid4()), str(uuid.uuid4()), str(uuid.uuid4())]"
   ]
  },
  {
   "cell_type": "code",
   "execution_count": 6,
   "metadata": {
    "collapsed": false
   },
   "outputs": [
    {
     "data": {
      "text/plain": [
       "['d547ea9a-dca2-4def-92c9-359d50a371b8',\n",
       " '4adbd2f8-6a04-4272-96ca-b13bbb16aae2',\n",
       " '2d86c675-a102-4cac-8238-7f12bec728cf',\n",
       " 'f4c5a413-bc85-4479-9b06-bd0c89be25cd',\n",
       " '03b46ccb-b68e-482b-ad1c-6bf6051cb1ac']"
      ]
     },
     "execution_count": 6,
     "metadata": {},
     "output_type": "execute_result"
    }
   ],
   "source": [
    "clientes"
   ]
  },
  {
   "cell_type": "code",
   "execution_count": 7,
   "metadata": {
    "collapsed": true
   },
   "outputs": [],
   "source": [
    "def generate_transaction():\n",
    "    \"\"\"\n",
    "    Regresa una transacción falsa, la primera columna es el número de tarjeta ofuscado, las demás\n",
    "    columnas son el comercio, la acción realizada en el comercio y el monto de la acción.\n",
    "    Devuelve una cadena separada por pipes (|)\n",
    "    \"\"\"\n",
    "    comercio = ['ARENA COLISEO', 'SUPERCITO', 'RESTAURANTE EL TRABAJO']\n",
    "    accion = ['RETIRO', 'COMPRA']\n",
    "    \n",
    "    return \"%s|%s|%s|%s\" % (random.choice(clientes), random.choice(comercio), random.choice(accion), random.randint(10, 10000))"
   ]
  },
  {
   "cell_type": "code",
   "execution_count": 25,
   "metadata": {
    "collapsed": true
   },
   "outputs": [],
   "source": [
    "?generate_transaction"
   ]
  },
  {
   "cell_type": "code",
   "execution_count": 8,
   "metadata": {
    "collapsed": false
   },
   "outputs": [
    {
     "data": {
      "text/plain": [
       "'4adbd2f8-6a04-4272-96ca-b13bbb16aae2|RESTAURANTE EL TRABAJO|RETIRO|9064'"
      ]
     },
     "execution_count": 8,
     "metadata": {},
     "output_type": "execute_result"
    }
   ],
   "source": [
    "generate_transaction()"
   ]
  },
  {
   "cell_type": "code",
   "execution_count": 9,
   "metadata": {
    "collapsed": true
   },
   "outputs": [],
   "source": [
    "def generate_transactions(number=10000):\n",
    "    \"\"\"\n",
    "    Regresa una lista de transacciones falsa.\n",
    "    \"\"\"\n",
    "    txs = []\n",
    "    for i in range(number):\n",
    "        txs.append(generate_transaction())\n",
    "    return txs"
   ]
  },
  {
   "cell_type": "code",
   "execution_count": 10,
   "metadata": {
    "collapsed": false
   },
   "outputs": [
    {
     "data": {
      "text/plain": [
       "['03b46ccb-b68e-482b-ad1c-6bf6051cb1ac|ARENA COLISEO|COMPRA|67',\n",
       " 'd547ea9a-dca2-4def-92c9-359d50a371b8|ARENA COLISEO|COMPRA|7076',\n",
       " '03b46ccb-b68e-482b-ad1c-6bf6051cb1ac|ARENA COLISEO|RETIRO|9804',\n",
       " '2d86c675-a102-4cac-8238-7f12bec728cf|ARENA COLISEO|COMPRA|3480',\n",
       " 'd547ea9a-dca2-4def-92c9-359d50a371b8|SUPERCITO|RETIRO|4526',\n",
       " '2d86c675-a102-4cac-8238-7f12bec728cf|RESTAURANTE EL TRABAJO|RETIRO|8591',\n",
       " 'f4c5a413-bc85-4479-9b06-bd0c89be25cd|ARENA COLISEO|RETIRO|369',\n",
       " 'f4c5a413-bc85-4479-9b06-bd0c89be25cd|ARENA COLISEO|COMPRA|4090',\n",
       " '2d86c675-a102-4cac-8238-7f12bec728cf|SUPERCITO|RETIRO|2064',\n",
       " 'd547ea9a-dca2-4def-92c9-359d50a371b8|SUPERCITO|COMPRA|6280']"
      ]
     },
     "execution_count": 10,
     "metadata": {},
     "output_type": "execute_result"
    }
   ],
   "source": [
    "generate_transactions(number=10)"
   ]
  },
  {
   "cell_type": "markdown",
   "metadata": {},
   "source": [
    "Guardamos estas transacciones para usarlas posteriormente"
   ]
  }
 ],
 "metadata": {
  "kernelspec": {
   "display_name": "Python 2",
   "language": "python",
   "name": "python2"
  },
  "language_info": {
   "codemirror_mode": {
    "name": "ipython",
    "version": 2
   },
   "file_extension": ".py",
   "mimetype": "text/x-python",
   "name": "python",
   "nbconvert_exporter": "python",
   "pygments_lexer": "ipython2",
   "version": "2.7.11"
  }
 },
 "nbformat": 4,
 "nbformat_minor": 0
}
