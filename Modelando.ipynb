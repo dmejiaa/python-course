{
 "cells": [
  {
   "cell_type": "markdown",
   "metadata": {},
   "source": [
    "# Modelo del banco"
   ]
  },
  {
   "cell_type": "code",
   "execution_count": 1,
   "metadata": {
    "collapsed": true
   },
   "outputs": [],
   "source": [
    "import uuid"
   ]
  },
  {
   "cell_type": "code",
   "execution_count": 10,
   "metadata": {
    "collapsed": true
   },
   "outputs": [],
   "source": [
    "class Persona:  # Esto es la definición de la clase\n",
    "    def __init__(self, nombre, apellido, efectivo_inicial=0.0):  # Este es el constructor\n",
    "        self.nombre = nombre\n",
    "        self.apellido = apellido\n",
    "        self.efectivo = efectivo_inicial\n",
    "        self.cuenta = None\n",
    "        \n",
    "    def retirar(self, atm, cantidad):\n",
    "        self.efectivo = self.efectivo + atm.realizar_retiro(self.cuenta, cantidad)\n",
    "    \n",
    "    def crear_cuenta(self, banco, cantidad_a_depositar):\n",
    "        self.cuenta = banco.crear_cuenta(self.nombre, self.apellido, cantidad_a_depositar)\n",
    "    \n",
    "    def checar_saldo(self, atm):\n",
    "        pass\n",
    "    \n",
    "    def __str__(self):\n",
    "        return '{} tiene {} en efectivo y tiene una cuenta'.format(self.nombre, self.efectivo, self.cuenta)\n",
    "\n",
    "\n",
    "class Cajero:\n",
    "    def __init__(self, banco, cantidad_inicial=10000):\n",
    "        self.id = uuid.uuid4()\n",
    "        self.banco = banco\n",
    "        self.cantidad = cantidad_inicial\n",
    "        \n",
    "    def realizar_retiro(self, num_cuenta, cantidad_a_retirar):\n",
    "        cantidad_a_dar = 0.0\n",
    "        if (cantidad_a_retirar <= self.cantidad):\n",
    "            if (self.obtener_saldo(num_cuenta) >= cantidad_a_retirar):\n",
    "                self.cantidad = self.cantidad - cantidad_a_retirar\n",
    "                self.ajustar_saldo(num_cuenta, cantidad_a_retirar)\n",
    "                self.registrar_transaccion(num_cuenta, 'RETIRO', cantidad_a_retirar)\n",
    "                cantidad_a_dar = cantidad_a_retirar\n",
    "        return cantidad_a_dar\n",
    "    \n",
    "    def obtener_saldo(self, num_cuenta):\n",
    "        return self.banco.obtener_saldo(num_cuenta)\n",
    "    \n",
    "    def ajustar_saldo(self, num_cuenta, cantidad):\n",
    "        self.banco.ajustar_saldo(num_cuenta, cantidad)\n",
    "    \n",
    "    def registrar_transaccion(self, num_cuenta, operacion, cantidad):\n",
    "        self.banco.registrar_transaccion(num_cuenta, self.id, operacion, cantidad)\n",
    "        \n",
    "\n",
    "class Banco:\n",
    "    def __init__(self):\n",
    "        self.cuentas = {}\n",
    "        self.cajeros = {}\n",
    "        self.transacciones = []\n",
    "        \n",
    "    def crear_cuenta(self, nombre, apellido, saldo_inicial):\n",
    "        cuenta_nueva = Cuenta(nombre, apellido, saldo_inicial)\n",
    "        self.cuentas[cuenta_nueva.id] = cuenta_nueva\n",
    "        return cuenta_nueva.id\n",
    "    \n",
    "    def conectar_cajero(self, cantidad_inicial):\n",
    "        cajero_nuevo  = Cajero(self, cantidad_inicial)\n",
    "        self.cajeros[cajero_nuevo.id] = cajero_nuevo\n",
    "        return cajero_nuevo\n",
    "    \n",
    "    def obtener_saldo(self, num_cuenta):\n",
    "        saldo = None\n",
    "        cuenta = self.cuentas[num_cuenta]\n",
    "        if cuenta:\n",
    "            saldo = cuenta.saldo\n",
    "        return saldo\n",
    "    \n",
    "    def ajustar_saldo(self, num_cuenta, cantidad):\n",
    "        cuenta = self.cuentas[num_cuenta]\n",
    "        if cuenta:\n",
    "            cuenta.saldo -= cantidad\n",
    "            \n",
    "    def registrar_transaccion(self, cuenta, cajero, operacion, cantidad):\n",
    "        transaccion = Transaccion(cuenta, cajero, operacion, cantidad)\n",
    "        self.transacciones.append(transaccion)\n",
    "        \n",
    "    def guardar_transacciones(self):\n",
    "        with open('transacciones.tsv') as f:\n",
    "            for transaccion in self.transacciones:\n",
    "                f.write(transaccion)\n",
    "        \n",
    "        \n",
    "class Cuenta:\n",
    "    def __init__(self, nombre, apellido, saldo_inicial):\n",
    "        self.id = uuid.uuid4()\n",
    "        self.nombre = nombre\n",
    "        self.apellido = apellido\n",
    "        self.saldo = saldo_inicial\n",
    "        \n",
    "\n",
    "class Transaccion:\n",
    "    def __init__(self, cuenta, cajero, operacion, cantidad):\n",
    "        self.id = uuid.uuid4()\n",
    "        self.cuenta = cuenta\n",
    "        self.cajero = cajero\n",
    "        self.operacion = operacion\n",
    "        self.cantidad = cantidad\n",
    "        \n",
    "    def __str__(self):\n",
    "        return \"{}\\t{}\\t{}\\t{}\\t{}\".format(self.id, self.cuenta, self.cajero, self.operacion, self.cantidad)"
   ]
  },
  {
   "cell_type": "code",
   "execution_count": 11,
   "metadata": {
    "collapsed": false
   },
   "outputs": [
    {
     "name": "stdout",
     "output_type": "stream",
     "text": [
      "Adolfo tiene 1000 en efectivo y tiene una cuenta\n",
      "None\n"
     ]
    }
   ],
   "source": [
    "mi_banco = Banco()\n",
    "yo = Persona('Adolfo', 'De Unanue', 1000)\n",
    "\n",
    "\n",
    "yo.crear_cuenta(mi_banco, 500)\n",
    "\n",
    "print(yo)\n",
    "print (cuenta)"
   ]
  },
  {
   "cell_type": "code",
   "execution_count": 4,
   "metadata": {
    "collapsed": false
   },
   "outputs": [],
   "source": [
    "atm1 = mi_banco.conectar_cajero(10000)"
   ]
  },
  {
   "cell_type": "code",
   "execution_count": 5,
   "metadata": {
    "collapsed": false
   },
   "outputs": [
    {
     "name": "stdout",
     "output_type": "stream",
     "text": [
      "Adolfo tiene 1100 en efectivo y tiene una cuenta\n"
     ]
    }
   ],
   "source": [
    "yo.retirar(atm1, 100)\n",
    "\n",
    "print(yo)"
   ]
  },
  {
   "cell_type": "code",
   "execution_count": null,
   "metadata": {
    "collapsed": true
   },
   "outputs": [],
   "source": []
  },
  {
   "cell_type": "code",
   "execution_count": null,
   "metadata": {
    "collapsed": true
   },
   "outputs": [],
   "source": []
  }
 ],
 "metadata": {
  "kernelspec": {
   "display_name": "Python 2",
   "language": "python",
   "name": "python2"
  },
  "language_info": {
   "codemirror_mode": {
    "name": "ipython",
    "version": 2
   },
   "file_extension": ".py",
   "mimetype": "text/x-python",
   "name": "python",
   "nbconvert_exporter": "python",
   "pygments_lexer": "ipython2",
   "version": "2.7.11"
  }
 },
 "nbformat": 4,
 "nbformat_minor": 0
}
